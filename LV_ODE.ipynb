{
 "cells": [
  {
   "cell_type": "markdown",
   "id": "b16dfc76-0c78-416c-9565-c0825087a06a",
   "metadata": {},
   "source": [
    "# Neural ODE"
   ]
  },
  {
   "cell_type": "markdown",
   "id": "a8768437-4934-45d8-9d34-d0783e81cf94",
   "metadata": {},
   "source": [
    "This example trains a [Neural ODE](https://arxiv.org/abs/1806.07366) to reproduce a toy dataset of nonlinear oscillators.\n",
    "\n",
    "This example is available as a Jupyter notebook [here](https://github.com/patrick-kidger/diffrax/blob/main/examples/neural_ode.ipynb)."
   ]
  },
  {
   "cell_type": "code",
   "execution_count": 7,
   "id": "276cbbe5-dac1-4814-807c-e50cc633b11a",
   "metadata": {},
   "outputs": [],
   "source": [
    "import time\n",
    "\n",
    "import diffrax\n",
    "import equinox as eqx  # https://github.com/patrick-kidger/equinox\n",
    "import jax\n",
    "import jax.nn as jnn\n",
    "import jax.numpy as jnp\n",
    "import jax.random as jr\n",
    "import matplotlib.pyplot as plt\n",
    "import optax  # https://github.com/deepmind/optax\n",
    "\n",
    "from jax.experimental.ode import odeint"
   ]
  },
  {
   "cell_type": "markdown",
   "id": "d0f36a4f-3813-4f84-8d61-96500ea1f237",
   "metadata": {},
   "source": [
    "We use [Equinox](https://github.com/patrick-kidger/equinox) to build neural networks. We use [Optax](https://github.com/deepmind/optax) for optimisers (Adam etc.)"
   ]
  },
  {
   "cell_type": "markdown",
   "id": "5016bd6c-4981-4783-a3cf-087b89b680c4",
   "metadata": {},
   "source": [
    "Recalling that a neural ODE is defined as\n",
    "\n",
    "$y(t) = y(0) + \\int_0^t f_\\theta(s, y(s)) ds$,\n",
    "\n",
    "then here we're now about to define the $f_\\theta$ that appears on that right hand side."
   ]
  },
  {
   "cell_type": "code",
   "execution_count": 8,
   "id": "243412cd-9f19-489f-a10e-bf0eb8bf3788",
   "metadata": {},
   "outputs": [],
   "source": [
    "class Func(eqx.Module):\n",
    "    mlp: eqx.nn.MLP\n",
    "\n",
    "    def __init__(self, data_size, width_size, depth, *, key, **kwargs):\n",
    "        super().__init__(**kwargs)\n",
    "        self.mlp = eqx.nn.MLP(\n",
    "            in_size=data_size,\n",
    "            out_size=data_size,\n",
    "            width_size=width_size,\n",
    "            depth=depth,\n",
    "            activation=jnn.softplus,\n",
    "            key=key,\n",
    "        )\n",
    "\n",
    "    def __call__(self, t, y, args):\n",
    "        return self.mlp(y)"
   ]
  },
  {
   "cell_type": "markdown",
   "id": "1aa17137-a851-4214-9187-53711d0e07da",
   "metadata": {},
   "source": [
    "Here we wrap up the entire ODE solve into a model."
   ]
  },
  {
   "cell_type": "code",
   "execution_count": 9,
   "id": "fdb14ae0-1aa5-4e10-ba3b-d977d5d6ac3d",
   "metadata": {},
   "outputs": [],
   "source": [
    "class NeuralODE(eqx.Module):\n",
    "    func: Func\n",
    "\n",
    "    def __init__(self, data_size, width_size, depth, *, key, **kwargs):\n",
    "        super().__init__(**kwargs)\n",
    "        self.func = Func(data_size, width_size, depth, key=key)\n",
    "\n",
    "    def __call__(self, ts, y0):\n",
    "        solution = diffrax.diffeqsolve(\n",
    "            diffrax.ODETerm(self.func),\n",
    "            diffrax.Tsit5(),\n",
    "            t0=ts[0],\n",
    "            t1=ts[-1],\n",
    "            dt0=ts[1] - ts[0],\n",
    "            y0=y0,\n",
    "            stepsize_controller=diffrax.PIDController(rtol=1e-3, atol=1e-6),\n",
    "            saveat=diffrax.SaveAt(ts=ts),\n",
    "        )\n",
    "        return solution.ys"
   ]
  },
  {
   "cell_type": "markdown",
   "id": "97d3264c-2edc-465e-b61f-05125645e1df",
   "metadata": {},
   "source": [
    "Toy dataset of nonlinear oscillators. Sample paths look like deformed sines and cosines."
   ]
  },
  {
   "cell_type": "code",
   "execution_count": 10,
   "id": "29225b09-3a50-4a7f-bbcf-5824d44f3e62",
   "metadata": {},
   "outputs": [],
   "source": [
    "def _get_data(ts, *, key):\n",
    "    y0 = jnp.array([30.,4.])\n",
    "\n",
    "    def f(t, y, args):\n",
    "        #[0.54686415 0.02760766 0.84253836 0.02607606]\n",
    "        return jnp.array([0.54686415 * y[0] - 0.02760766 * y[0] * y[1],-0.84253836 * y[1] + 0.02607606 * y[0] * y[1]])\n",
    "\n",
    "    solver = diffrax.Tsit5()\n",
    "    dt0 = 0.1\n",
    "    saveat = diffrax.SaveAt(ts=ts)\n",
    "    sol = diffrax.diffeqsolve(\n",
    "        diffrax.ODETerm(f), solver, ts[0], ts[-1], dt0, y0, saveat=saveat\n",
    "    )\n",
    "    ys = sol.ys #jax.random.poisson(lam = sol.ys,key = key)\n",
    "    return ys\n",
    "\n",
    "\n",
    "def get_data(dataset_size, *, key):\n",
    "    ts = jnp.arange(0, 20, 0.1)\n",
    "    key = jr.split(key, dataset_size)\n",
    "    ys = jax.vmap(lambda key: _get_data(ts, key=key))(key)\n",
    "    return ts, ys"
   ]
  },
  {
   "cell_type": "code",
   "execution_count": 11,
   "id": "6505387d-6900-401d-9ceb-b741f349f1e6",
   "metadata": {},
   "outputs": [],
   "source": [
    "def dataloader(arrays, batch_size, *, key):\n",
    "    dataset_size = arrays[0].shape[0]\n",
    "    assert all(array.shape[0] == dataset_size for array in arrays)\n",
    "    indices = jnp.arange(dataset_size)\n",
    "    while True:\n",
    "        perm = jr.permutation(key, indices)\n",
    "        (key,) = jr.split(key, 1)\n",
    "        start = 0\n",
    "        end = batch_size\n",
    "        while end < dataset_size:\n",
    "            batch_perm = perm[start:end]\n",
    "            yield tuple(array[batch_perm] for array in arrays)\n",
    "            start = end\n",
    "            end = start + batch_size"
   ]
  },
  {
   "cell_type": "markdown",
   "id": "acd937f6-4642-4b8a-b309-aae63a9269dc",
   "metadata": {},
   "source": [
    "Main entry point. Try runnning `main()`."
   ]
  },
  {
   "cell_type": "code",
   "execution_count": 12,
   "id": "135540f6-d5ea-4c79-b083-0b86fd3edbe3",
   "metadata": {},
   "outputs": [],
   "source": [
    "def main(\n",
    "    dataset_size=2,\n",
    "    batch_size=1,\n",
    "    lr_strategy=(3e-3,3e-5,3e-5, 3e-5, 3e-5),\n",
    "    steps_strategy=(1000, 1000,1000,1000, 5000),\n",
    "    length_strategy=(0.1,0.25,0.5,0.75, 1.),\n",
    "    width_size=64,\n",
    "    depth=2,\n",
    "    seed=5678,\n",
    "    plot=True,\n",
    "    print_every=100,\n",
    "):\n",
    "    key = jr.PRNGKey(seed)\n",
    "    data_key, model_key, loader_key = jr.split(key, 3)\n",
    "\n",
    "    ts, ys = get_data(dataset_size, key=data_key)\n",
    "\n",
    "    _, length_size, data_size = ys.shape\n",
    "\n",
    "    ys_full = ys\n",
    "\n",
    "    ys = ys[:,:int(length_size//2),:]\n",
    "\n",
    "    _, length_size, data_size = ys.shape\n",
    "\n",
    "    model = NeuralODE(data_size, width_size, depth, key=model_key)\n",
    "\n",
    "    # Training loop like normal.\n",
    "    #\n",
    "    # Only thing to notice is that up until step 500 we train on only the first 10% of\n",
    "    # each time series. This is a standard trick to avoid getting caught in a local\n",
    "    # minimum.\n",
    "\n",
    "    @eqx.filter_value_and_grad\n",
    "    def grad_loss(model, ti, yi):\n",
    "        y_pred = jax.vmap(model, in_axes=(None, 0))(ti, yi[:, 0])\n",
    "        return jnp.mean((yi - y_pred) ** 2)\n",
    "\n",
    "    @eqx.filter_jit\n",
    "    def make_step(ti, yi, model, opt_state):\n",
    "        loss, grads = grad_loss(model, ti, yi)\n",
    "        updates, opt_state = optim.update(grads, opt_state)\n",
    "        model = eqx.apply_updates(model, updates)\n",
    "        return loss, model, opt_state\n",
    "\n",
    "    for lr, steps, length in zip(lr_strategy, steps_strategy, length_strategy):\n",
    "        optim = optax.adabelief(lr)\n",
    "        opt_state = optim.init(eqx.filter(model, eqx.is_inexact_array))\n",
    "        _ts = ts[: int(length_size * length)]\n",
    "        _ys = ys[:, : int(length_size * length)]\n",
    "        for step, (yi,) in zip(\n",
    "            range(steps), dataloader((_ys,), batch_size, key=loader_key)\n",
    "        ):\n",
    "            start = time.time()\n",
    "            loss, model, opt_state = make_step(_ts, yi, model, opt_state)\n",
    "            end = time.time()\n",
    "            if (step % print_every) == 0 or step == steps - 1:\n",
    "                print(f\"Step: {step}, Loss: {loss}, Computation time: {end - start}\")\n",
    "\n",
    "    return ts, ys_full, model"
   ]
  },
  {
   "cell_type": "code",
   "execution_count": 13,
   "id": "fba5156d-22d4-40c9-991b-e6b29a53abed",
   "metadata": {},
   "outputs": [
    {
     "name": "stdout",
     "output_type": "stream",
     "text": [
      "Step: 0, Loss: 51.85296630859375, Computation time: 8.825086832046509\n",
      "Step: 100, Loss: 0.0036129429936408997, Computation time: 0.0030438899993896484\n",
      "Step: 200, Loss: 0.0031242379918694496, Computation time: 0.0028989315032958984\n",
      "Step: 300, Loss: 0.001846586586907506, Computation time: 0.002888917922973633\n",
      "Step: 400, Loss: 0.00022597912175115198, Computation time: 0.0028390884399414062\n",
      "Step: 500, Loss: 7.186506263678893e-05, Computation time: 0.002825021743774414\n",
      "Step: 600, Loss: 6.160166230984032e-05, Computation time: 0.0028378963470458984\n",
      "Step: 700, Loss: 6.051469244994223e-05, Computation time: 0.002825021743774414\n",
      "Step: 800, Loss: 6.0257090808590874e-05, Computation time: 0.002927064895629883\n",
      "Step: 900, Loss: 6.290026067290455e-05, Computation time: 0.003656148910522461\n",
      "Step: 999, Loss: 5.9911930293310434e-05, Computation time: 0.0028438568115234375\n",
      "Step: 0, Loss: 6.159526824951172, Computation time: 6.319187164306641\n",
      "Step: 100, Loss: 1.6104496717453003, Computation time: 0.0030400753021240234\n",
      "Step: 200, Loss: 1.5986950397491455, Computation time: 0.002939939498901367\n",
      "Step: 300, Loss: 1.4618080854415894, Computation time: 0.003459930419921875\n",
      "Step: 400, Loss: 1.2819616794586182, Computation time: 0.003259897232055664\n",
      "Step: 500, Loss: 1.0445932149887085, Computation time: 0.003197908401489258\n",
      "Step: 600, Loss: 0.7723454833030701, Computation time: 0.003155946731567383\n",
      "Step: 700, Loss: 0.4996122121810913, Computation time: 0.003113985061645508\n",
      "Step: 800, Loss: 0.3143022954463959, Computation time: 0.0031621456146240234\n",
      "Step: 900, Loss: 0.22313807904720306, Computation time: 0.0031571388244628906\n",
      "Step: 999, Loss: 0.17087507247924805, Computation time: 0.003244638442993164\n",
      "Step: 0, Loss: 1908.8721923828125, Computation time: 6.63803505897522\n",
      "Step: 100, Loss: 712.6337890625, Computation time: 0.0034220218658447266\n",
      "Step: 200, Loss: 562.8573608398438, Computation time: 0.003461122512817383\n",
      "Step: 300, Loss: 456.84478759765625, Computation time: 0.003965854644775391\n",
      "Step: 400, Loss: 425.3034362792969, Computation time: 0.003631114959716797\n",
      "Step: 500, Loss: 370.7097473144531, Computation time: 0.003495931625366211\n",
      "Step: 600, Loss: 84.13727569580078, Computation time: 0.004598855972290039\n",
      "Step: 700, Loss: 31.227460861206055, Computation time: 0.0037758350372314453\n",
      "Step: 800, Loss: 23.886770248413086, Computation time: 0.004354000091552734\n",
      "Step: 900, Loss: 19.248268127441406, Computation time: 0.0038530826568603516\n",
      "Step: 999, Loss: 16.084985733032227, Computation time: 0.004029989242553711\n",
      "Step: 0, Loss: 12.731459617614746, Computation time: 6.41552996635437\n",
      "Step: 100, Loss: 11.08565616607666, Computation time: 0.004491090774536133\n",
      "Step: 200, Loss: 9.483255386352539, Computation time: 0.004317045211791992\n",
      "Step: 300, Loss: 7.364027500152588, Computation time: 0.005012035369873047\n",
      "Step: 400, Loss: 5.353248596191406, Computation time: 0.00450587272644043\n",
      "Step: 500, Loss: 7.276201248168945, Computation time: 0.0045702457427978516\n",
      "Step: 600, Loss: 3.760179042816162, Computation time: 0.00463104248046875\n",
      "Step: 700, Loss: 3.4405083656311035, Computation time: 0.004950046539306641\n",
      "Step: 800, Loss: 3.5868372917175293, Computation time: 0.0048828125\n",
      "Step: 900, Loss: 3.270683526992798, Computation time: 0.004781007766723633\n",
      "Step: 999, Loss: 3.1489641666412354, Computation time: 0.00461268424987793\n",
      "Step: 0, Loss: 12.264945030212402, Computation time: 7.2639617919921875\n",
      "Step: 100, Loss: 9.333179473876953, Computation time: 0.005487203598022461\n",
      "Step: 200, Loss: 8.022064208984375, Computation time: 0.0049970149993896484\n",
      "Step: 300, Loss: 6.553123474121094, Computation time: 0.0064890384674072266\n",
      "Step: 400, Loss: 5.223544597625732, Computation time: 0.005015134811401367\n",
      "Step: 500, Loss: 3.845858097076416, Computation time: 0.0048449039459228516\n",
      "Step: 600, Loss: 2.6733205318450928, Computation time: 0.005571842193603516\n",
      "Step: 700, Loss: 1.806030511856079, Computation time: 0.0052509307861328125\n",
      "Step: 800, Loss: 1.6388130187988281, Computation time: 0.004822731018066406\n",
      "Step: 900, Loss: 0.9317025542259216, Computation time: 0.0056018829345703125\n",
      "Step: 1000, Loss: 0.7624332308769226, Computation time: 0.004708051681518555\n",
      "Step: 1100, Loss: 0.7443566918373108, Computation time: 0.0051631927490234375\n",
      "Step: 1200, Loss: 0.5484172701835632, Computation time: 0.004816293716430664\n",
      "Step: 1300, Loss: 0.4793925881385803, Computation time: 0.0049021244049072266\n",
      "Step: 1400, Loss: 0.38166746497154236, Computation time: 0.004960060119628906\n",
      "Step: 1500, Loss: 0.32931533455848694, Computation time: 0.005347013473510742\n",
      "Step: 1600, Loss: 0.2758508622646332, Computation time: 0.004775285720825195\n",
      "Step: 1700, Loss: 0.23338668048381805, Computation time: 0.004642963409423828\n",
      "Step: 1800, Loss: 0.2065105438232422, Computation time: 0.0048923492431640625\n",
      "Step: 1900, Loss: 0.17789344489574432, Computation time: 0.004417896270751953\n",
      "Step: 2000, Loss: 0.15195633471012115, Computation time: 0.005313873291015625\n",
      "Step: 2100, Loss: 0.17066256701946259, Computation time: 0.00466609001159668\n",
      "Step: 2200, Loss: 0.12950116395950317, Computation time: 0.0047490596771240234\n",
      "Step: 2300, Loss: 0.1118035688996315, Computation time: 0.00481414794921875\n",
      "Step: 2400, Loss: 0.11026744544506073, Computation time: 0.004560947418212891\n",
      "Step: 2500, Loss: 0.09981665760278702, Computation time: 0.004444122314453125\n",
      "Step: 2600, Loss: 0.09658602625131607, Computation time: 0.005566120147705078\n",
      "Step: 2700, Loss: 0.0788491740822792, Computation time: 0.004405021667480469\n",
      "Step: 2800, Loss: 0.08219631016254425, Computation time: 0.00499415397644043\n",
      "Step: 2900, Loss: 0.06952179968357086, Computation time: 0.004567146301269531\n",
      "Step: 3000, Loss: 0.06742740422487259, Computation time: 0.00450587272644043\n",
      "Step: 3100, Loss: 0.08387106657028198, Computation time: 0.004709005355834961\n",
      "Step: 3200, Loss: 0.060006242245435715, Computation time: 0.004762887954711914\n",
      "Step: 3300, Loss: 0.052365921437740326, Computation time: 0.004601001739501953\n",
      "Step: 3400, Loss: 0.04887143522500992, Computation time: 0.004426002502441406\n",
      "Step: 3500, Loss: 0.05203479155898094, Computation time: 0.004403829574584961\n",
      "Step: 3600, Loss: 0.3336850702762604, Computation time: 0.005377054214477539\n",
      "Step: 3700, Loss: 0.04357001557946205, Computation time: 0.0047528743743896484\n",
      "Step: 3800, Loss: 0.07362973690032959, Computation time: 0.0044519901275634766\n",
      "Step: 3900, Loss: 0.0383320115506649, Computation time: 0.0045430660247802734\n",
      "Step: 4000, Loss: 0.04139113426208496, Computation time: 0.004435300827026367\n",
      "Step: 4100, Loss: 0.05376143008470535, Computation time: 0.004384279251098633\n",
      "Step: 4200, Loss: 0.10456733405590057, Computation time: 0.00451207160949707\n",
      "Step: 4300, Loss: 0.05190595984458923, Computation time: 0.0044629573822021484\n",
      "Step: 4400, Loss: 0.034358762204647064, Computation time: 0.0043849945068359375\n",
      "Step: 4500, Loss: 0.06334567070007324, Computation time: 0.004389047622680664\n",
      "Step: 4600, Loss: 0.07143306732177734, Computation time: 0.011360883712768555\n",
      "Step: 4700, Loss: 0.09355808049440384, Computation time: 0.005388736724853516\n",
      "Step: 4800, Loss: 0.02793598175048828, Computation time: 0.00489497184753418\n",
      "Step: 4900, Loss: 0.0334157831966877, Computation time: 0.004766225814819336\n",
      "Step: 4999, Loss: 0.027348613366484642, Computation time: 0.0048830509185791016\n"
     ]
    }
   ],
   "source": [
    "ts, ys, model = main()"
   ]
  },
  {
   "cell_type": "code",
   "execution_count": 14,
   "id": "c79d0aba",
   "metadata": {},
   "outputs": [],
   "source": [
    "y0 = jnp.array([30.,4.])\n",
    "\n",
    "def f(y,t):\n",
    "  #[0.54686415 0.02760766 0.84253836 0.02607606]\n",
    "  return jnp.array([0.54686415 * y[0] - 0.02760766 * y[0] * y[1],-0.84253836 * y[1] + 0.02607606 * y[0] * y[1]])\n",
    "\n",
    "ts = jnp.arange(0,20.,0.1)\n",
    "\n",
    "true_path = odeint(f,y0 = y0,t = ts)\n"
   ]
  },
  {
   "cell_type": "code",
   "execution_count": 15,
   "id": "c8e84d1e",
   "metadata": {},
   "outputs": [
    {
     "data": {
      "text/plain": [
       "<matplotlib.legend.Legend at 0x13a6c2a20>"
      ]
     },
     "execution_count": 15,
     "metadata": {},
     "output_type": "execute_result"
    },
    {
     "data": {
      "image/png": "[encoded data removed]",
      "text/plain": [
       "<Figure size 640x480 with 1 Axes>"
      ]
     },
     "metadata": {},
     "output_type": "display_data"
    }
   ],
   "source": [
    "_, length_size, data_size = ys.shape\n",
    "\n",
    "init = ys[0,:,:][int(length_size//2)]\n",
    "\n",
    "ts_forecast = jnp.arange(10,20,0.1)\n",
    "\n",
    "plt.plot(ts,true_path,label = 'true path',color = 'blue')\n",
    "plt.plot(ts_forecast,model(ts_forecast,init),'--',label = 'forecast',color = 'red')\n",
    "plt.axvline(x = 10)\n",
    "plt.legend()"
   ]
  },
  {
   "cell_type": "markdown",
   "id": "ea7c0626-7e83-4a2b-84c9-44bcfc147f35",
   "metadata": {},
   "source": [
    "Some notes on speed:\n",
    "The hyperparameters for the above example haven't really been optimised. Try experimenting with them to see how much faster you can make this example run. There's lots of things you can try tweaking:\n",
    "\n",
    "- The size of the neural network.\n",
    "- The numerical solver.\n",
    "- The step size controller, including both its step size and its tolerances.\n",
    "- The length of the dataset. (Do you really need to use all of a time series every time?)\n",
    "- Batch size, learning rate, choice of optimiser.\n",
    "- ... etc.!\n",
    "\n",
    "Some notes on being Markov:\n",
    "\n",
    "- This example has assumed that the problem is Markov. Essentially, that the data `ys` is a complete observation of the system, and that we're not missing any channels. Note how the result of our model is evolving in data space. This is unlike e.g. an RNN, which has hidden state, and a linear map from hidden state to data.\n",
    "- If we wanted we could generalise this to the non-Markov case: inside `NeuralODE`, project the initial condition into some high-dimensional latent space, do the ODE solve there, then take a linear map to get the output. See the [Latent ODE example](../latent_ode) for an example doing this as part of a generative model; also see [Augmented Neural ODEs](https://arxiv.org/abs/1904.01681) for a short paper on it."
   ]
  }
 ],
 "metadata": {
  "kernelspec": {
   "display_name": ".venv",
   "language": "python",
   "name": "python3"
  },
  "language_info": {
   "codemirror_mode": {
    "name": "ipython",
    "version": 3
   },
   "file_extension": ".py",
   "mimetype": "text/x-python",
   "name": "python",
   "nbconvert_exporter": "python",
   "pygments_lexer": "ipython3",
   "version": "3.12.4"
  }
 },
 "nbformat": 4,
 "nbformat_minor": 5
}
